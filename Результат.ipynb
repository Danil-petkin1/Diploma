{
 "cells": [
  {
   "cell_type": "markdown",
   "metadata": {
    "tags": []
   },
   "source": [
    "# Симулятор аукциона\n",
    "### Настройка симулятора\n",
    "Чтобы запустить симулятор, нужно сначала собрать некоторую информацию.\n",
    "\n",
    "Во-первых, нам нужно знать, что мы будем расследовать.\n",
    "В data_type мы будем хранить, какие показатели мы хотим проанализировать, в то время как в agent_type мы храним, для каких агентов мы хотим проанализировать показатели. number_of_rounds определяет, сколько симуляций должно быть выполнено для каждой комбинации типа аукциона и типа участника."
   ]
  },
  {
   "cell_type": "code",
   "execution_count": 4,
   "metadata": {
    "collapsed": false,
    "jupyter": {
     "outputs_hidden": false
    },
    "pycharm": {
     "name": "#%%\n"
    }
   },
   "outputs": [],
   "source": [
    "import parameters_writer as pw\n",
    "\n",
    "number_of_rounds = 15\n",
    "data_type = ['Revenue']\n",
    "agent_type = ['Auction Types']\n",
    "\n",
    "pw.write_simulation_information(number_of_rounds, data_type, agent_type)"
   ]
  },
  {
   "cell_type": "code",
   "execution_count": 5,
   "metadata": {
    "collapsed": false,
    "jupyter": {
     "outputs_hidden": false
    },
    "pycharm": {
     "name": "#%%\n"
    }
   },
   "outputs": [],
   "source": [
    "number_of_bidders = 10\n",
    "auction_types = \"ED,DE,V,F\"\n",
    "reserve_price = 900000000\n",
    "auctioneer_type = \"A,B,C,D\"\n",
    "\n",
    "pw.write_auction_information(number_of_bidders, auction_types, reserve_price, auctioneer_type)"
   ]
  },
  {
   "cell_type": "markdown",
   "metadata": {},
   "source": [
    "Наконец, нам нужно определить, какие типы участников торгов у нас будут. Все типы участников торгов **должны** иметь значение, но оно может быть равным 0.\n",
    "Эти значения будут представлять процент участников торгов определенного типа. Например, если мы предварительно установили, что количество участников торгов равно 200, а bidder_a равно 25, это будет означать, что будет 50 участников торгов типа A (25% от 200)."
   ]
  },
  {
   "cell_type": "markdown",
   "metadata": {},
   "source": [
    "Будем использовать 4 типа аукционов, которые можно комбинировать:\n",
    "- E - Английский\n",
    "- D - Голландский\n",
    "- F - Закрытый аукцион первой цены\n",
    "- V - Аукцион Викри\n",
    "\n",
    "Существует также четыре типа участников, каждый из которых ведет себя по-разному с точки зрения изменения ставки с течением времени:\n",
    "- *A* : константная функция\n",
    "- *B* : возрастающая функция\n",
    "- *C* : убывающая функция\n",
    "- *D* : немонотонная функция\n",
    "\n",
    "Мы можем выбрать несколько типов аукционов и типов участников (auction_types, auctioneer_type).\n",
    "number_of_bidders показывает, сколько участников будет на каждом аукционе. reserve_price это минимальная цена, за которую аукционист готов продать товар."
   ]
  },
  {
   "cell_type": "code",
   "execution_count": 6,
   "metadata": {
    "collapsed": false,
    "jupyter": {
     "outputs_hidden": false
    },
    "pycharm": {
     "name": "#%%\n"
    }
   },
   "outputs": [],
   "source": [
    "bidder_a = 25\n",
    "bidder_b = 25\n",
    "bidder_c = 25\n",
    "bidder_d = 25\n",
    "\n",
    "pw.write_bidders_percentages(bidder_a, bidder_b, bidder_c, bidder_d)"
   ]
  },
  {
   "cell_type": "markdown",
   "metadata": {
    "tags": []
   },
   "source": [
    "### Запуск симулятора\n",
    "Когда вся информация будет собрана, нужно запустить симулятор. Показатели будут автоматически сохранены в csv-файле."
   ]
  },
  {
   "cell_type": "code",
   "execution_count": 12,
   "metadata": {
    "collapsed": false,
    "jupyter": {
     "outputs_hidden": false
    },
    "pycharm": {
     "name": "#%%\n"
    }
   },
   "outputs": [
    {
     "name": "stdout",
     "output_type": "stream",
     "text": [
      "Выполнение заняло 0.10293984413146973 секунд.\n",
      " Информация сохранена в файл 'res.csv'.\n"
     ]
    }
   ],
   "source": [
    "import main as m\n",
    "\n",
    "m.extract_information()\n",
    "m.run_simulation()"
   ]
  },
  {
   "cell_type": "markdown",
   "metadata": {
    "pycharm": {
     "name": "#%% md\n"
    }
   },
   "source": [
    "Теперь, когда у нас есть данные, проанализируем их. C помощью функции analyse_data выведем столбчатую диаграмму и диаграмму размаха (box and whiskers chart), а также результаты ANOVA для указанной метрики."
   ]
  },
  {
   "cell_type": "code",
   "execution_count": 10,
   "metadata": {
    "collapsed": false,
    "jupyter": {
     "outputs_hidden": false
    },
    "pycharm": {
     "name": "#%%\n"
    }
   },
   "outputs": [
    {
     "data": {
      "image/png": "[encoded data removed]",
      "text/plain": [
       "<Figure size 432x288 with 1 Axes>"
      ]
     },
     "metadata": {
      "needs_background": "light"
     },
     "output_type": "display_data"
    },
    {
     "data": {
      "image/png": "[encoded data removed]",
      "text/plain": [
       "<Figure size 432x288 with 1 Axes>"
      ]
     },
     "metadata": {
      "needs_background": "light"
     },
     "output_type": "display_data"
    },
    {
     "name": "stdout",
     "output_type": "stream",
     "text": [
      "----------------------------------------------------------\n",
      "ANOVA тест для 'Revenue' с точки зрения 'Auction Types':\n",
      "f_statistics=42.78448714424576; p=4.0779902014215657e-22\n",
      "----------------------------------------------------------\n"
     ]
    }
   ],
   "source": [
    "m.analyse_data()"
   ]
  },
  {
   "cell_type": "code",
   "execution_count": null,
   "metadata": {},
   "outputs": [],
   "source": []
  }
 ],
 "metadata": {
  "kernelspec": {
   "display_name": "Python 3 (ipykernel)",
   "language": "python",
   "name": "python3"
  },
  "language_info": {
   "codemirror_mode": {
    "name": "ipython",
    "version": 3
   },
   "file_extension": ".py",
   "mimetype": "text/x-python",
   "name": "python",
   "nbconvert_exporter": "python",
   "pygments_lexer": "ipython3",
   "version": "3.10.4"
  }
 },
 "nbformat": 4,
 "nbformat_minor": 4
}
